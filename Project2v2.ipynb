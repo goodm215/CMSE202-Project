{
 "cells": [
  {
   "cell_type": "code",
   "execution_count": 98,
   "metadata": {},
   "outputs": [],
   "source": [
    "#imports\n",
    "import random \n",
    "import numpy as np\n",
    "import math\n",
    "import matplotlib.pyplot as plt\n",
    "import time  \n",
    "from IPython.display import display, clear_output\n",
    "from matplotlib.offsetbox import OffsetImage, AnnotationBbox\n",
    "from matplotlib.cbook import get_sample_data\n",
    "#professor code for plotting\n",
    "def imscatter(x, y, image, ax=None, zoom=1):\n",
    "    if ax is None:\n",
    "        ax = plt.gca()\n",
    "    try:\n",
    "        image = plt.imread(image)\n",
    "    except TypeError:\n",
    "        # Likely already an array...\n",
    "        pass\n",
    "    im = OffsetImage(image, zoom=zoom)\n",
    "    x, y = np.atleast_1d(x, y)\n",
    "    artists = []\n",
    "    for x0, y0 in zip(x, y):\n",
    "        ab = AnnotationBbox(im, (x0, y0), xycoords='data', \\\n",
    "                            frameon=False)\n",
    "        artists.append(ax.add_artist(ab))\n",
    "    ax.update_datalim(np.column_stack([x, y]))\n",
    "    ax.autoscale()\n",
    "    return artists"
   ]
  },
  {
   "cell_type": "code",
   "execution_count": 97,
   "metadata": {},
   "outputs": [
    {
     "data": {
      "image/png": "[encoded data removed]",
      "text/plain": [
       "<Figure size 288x288 with 1 Axes>"
      ]
     },
     "metadata": {
      "needs_background": "light"
     },
     "output_type": "display_data"
    },
    {
     "data": {
      "image/png": "[encoded data removed]",
      "text/plain": [
       "<Figure size 288x288 with 1 Axes>"
      ]
     },
     "metadata": {
      "needs_background": "light"
     },
     "output_type": "display_data"
    }
   ],
   "source": [
    "#where it needs fixing\n",
    "#we can change if you would like how much or how little the placement of antibiotics is/color\n",
    "#see stack overflow link for example\n",
    "#need help combining to one board and making bacteria on the board\n",
    "class board():\n",
    "    def __init__(self, nrows = 9, ncols = 9):\n",
    "        self.nrows = nrows\n",
    "        self.ncols = ncols\n",
    "        return\n",
    "    \n",
    "    def nutrients(self):\n",
    "        nutrients = np.zeros(self.nrows*self.ncols)\n",
    "        a = np.random.randint(0,nrows)\n",
    "        b = np.random.randint(0,ncols)\n",
    "        nutrients[a*b] = np.random.random()\n",
    "        nutrients = nutrients.reshape((self.nrows, self.ncols))\n",
    "        row_labels = range(self.nrows)\n",
    "        col_labels = range(self.ncols)\n",
    "        plt.matshow(nutrients)\n",
    "        plt.xticks(range(self.ncols), col_labels)\n",
    "        plt.yticks(range(self.nrows), row_labels)\n",
    "        plt.show()\n",
    "        return\n",
    "\n",
    "    def antibiotics(self):\n",
    "        anti = np.zeros(self.nrows*self.ncols)\n",
    "        c = np.random.randint(0,nrows)\n",
    "        d = np.random.randint(0,ncols)\n",
    "        anti[c*d] = np.random.random()\n",
    "        anti = anti.reshape((self.nrows, self.ncols))\n",
    "        row_labels = range(self.nrows)\n",
    "        col_labels = range(self.ncols)\n",
    "        plt.matshow(anti)\n",
    "        plt.xticks(range(self.ncols), col_labels)\n",
    "        plt.yticks(range(self.nrows), row_labels)\n",
    "        plt.show()\n",
    "        return\n",
    "        \n",
    "    def toxins():#may take out\n",
    "        pass\n",
    "\n",
    "c = board(9,9)\n",
    "c.nutrients()\n",
    "c.antibiotics()\n",
    "#https://stackoverflow.com/questions/10194482/custom-matplotlib-plot-chess-board-like-table-with-colored-cells"
   ]
  },
  {
   "cell_type": "code",
   "execution_count": 99,
   "metadata": {},
   "outputs": [],
   "source": [
    "class bacteria():\n",
    "    \n",
    "    __slots__ = ['x', 'y', 'antibiotic_resistance_gene', 'nutrient_gene', 'temperature_gene', 'immune_resistance_gene']\n",
    "    \n",
    "    def __init__(self, x = random.randint(0,9),y = random.randint(0,9), gene_seed = 0, mutation_rate=0.1):\n",
    "        \"\"\"\n",
    "        Creates new bacteria object with random position and genes\n",
    "        :x: x position of bacteria\n",
    "        :y: y position of bacteria\n",
    "        :gene_seed: float value to add to all randomly initialized gene values\n",
    "        :mutation_rate: the mutation rate for bacteria\n",
    "        \"\"\"\n",
    "        self.x = x\n",
    "        self.y = y\n",
    "        \n",
    "        #initialize all genes to random values between [0, 0.2] + gene_seed\n",
    "        self.antibiotic_resistance_gene = np.random.rand()/5 + gene_seed\n",
    "        self.nutrient_gene = np.random.rand()/5 + gene_seed\n",
    "        self.temperature_gene = np.random.rand()/5 + gene_seed\n",
    "        self.immune_resistance_gene = np.random.rand()/5 + gene_seed\n",
    "        \n",
    "\n",
    "        \n",
    "        return\n",
    "    \n",
    "    def set_position(self, x, y):\n",
    "        \"\"\"\n",
    "        Sets the position of self using passed arguments\n",
    "        \"\"\"\n",
    "        self.x = x\n",
    "        self.y = y\n",
    "        return\n",
    "    \n",
    "    def movement(self):\n",
    "        \"\"\"\n",
    "        Randomly move bacteria up to two units in the x and y directions\n",
    "        \"\"\"\n",
    "        randomstepx = random.randint(-2,2)\n",
    "        randomstepy = random.randint(-2,2)\n",
    "        self.x = self.x + randomstepx\n",
    "        if self.x < 20:\n",
    "            self.x = 20\n",
    "        if self.x > 100:\n",
    "            self.x = 100\n",
    "        self.y = self.y + randomstepy\n",
    "        if self.y < 20:\n",
    "            self.y = 20\n",
    "        if self.y > 120:\n",
    "            self.y = 120\n",
    "        return\n",
    "    \n",
    "    def reproduce(self):\n",
    "        \"\"\"\n",
    "        Returns a new bacteria with a gene seed of the mean of the current bacterias genes\n",
    "        \"\"\"\n",
    "        newbac = bacteria(self.x,self.y, (self.antibiotic_resistance_gene+self.nutrient_gene+self.temperature_gene+self.immune_resistance_gene)/4)\n",
    "        return newbac\n",
    "    \n",
    "    \n",
    "    def mutate(self):\n",
    "        \"\"\"\n",
    "        Randomly calculate if bacteria will mutate\n",
    "        If true, randomly add from a N(0, 0.1) distribution\n",
    "        \"\"\"\n",
    "        if np.random.rand() < mutation_rate:\n",
    "            self.antibiotic_resistance_gene += 0.1 * np.random.randn()\n",
    "            self.nutrient_gene += 0.1 * np.random.randn()\n",
    "            self.temperature_gene += 0.1 * np.random.randn()\n",
    "            self.immune_resistance_gene += 0.1 * np.random.randn()\n",
    "    \n",
    "    def death(self, external_condition_value):\n",
    "        \"\"\"\n",
    "        Calculate something related to the current conditions the bacteria is experiencing to see if it dies based on its genes.\n",
    "        :external_condition_value: could be anything such as temperature, antibiotics level, white blood cell count, etc\n",
    "        \"\"\"\n",
    "        pass\n",
    "    \n",
    "    def draw(self):\n",
    "        image_path = 'bacteria.jpg'\n",
    "        imscatter(self.x, self.y, image_path, zoom=0.8)\n",
    "        return\n",
    "\n",
    "#we may want to just use dots instead of the picture^^^"
   ]
  },
  {
   "cell_type": "code",
   "execution_count": 100,
   "metadata": {},
   "outputs": [
    {
     "data": {
      "image/png": "[encoded data removed]",
      "text/plain": [
       "<Figure size 432x432 with 1 Axes>"
      ]
     },
     "metadata": {
      "needs_background": "light"
     },
     "output_type": "display_data"
    }
   ],
   "source": [
    "b = bacteria()\n",
    "allbac = []\n",
    "allbac.append(b)\n",
    "for d in range(50):\n",
    "    clear_output(wait=True)  \n",
    "    plt.figure(figsize=(6, 6))    \n",
    "    for ba in range(np.size(allbac)):\n",
    "        allbac[ba].movement()\n",
    "        allbac[ba].draw()\n",
    "    if np.mod(d,10) == 1:\n",
    "        for i in range(np.size(allbac)):\n",
    "            cell = allbac[i].reproduce()\n",
    "            allbac.append(cell)\n",
    "    plt.axes().set_aspect('equal')\n",
    "    plt.axes().set_xlim([-0,120])\n",
    "    plt.axes().set_ylim([-0,140])\n",
    "    plt.show()   \n",
    "    time.sleep(0.001)  "
   ]
  },
  {
   "cell_type": "code",
   "execution_count": null,
   "metadata": {},
   "outputs": [],
   "source": []
  },
  {
   "cell_type": "code",
   "execution_count": null,
   "metadata": {},
   "outputs": [],
   "source": []
  },
  {
   "cell_type": "code",
   "execution_count": null,
   "metadata": {},
   "outputs": [],
   "source": []
  }
 ],
 "metadata": {
  "kernelspec": {
   "display_name": "Environment (conda_anaconda3)",
   "language": "python",
   "name": "conda_anaconda3"
  },
  "language_info": {
   "codemirror_mode": {
    "name": "ipython",
    "version": 3
   },
   "file_extension": ".py",
   "mimetype": "text/x-python",
   "name": "python",
   "nbconvert_exporter": "python",
   "pygments_lexer": "ipython3",
   "version": "3.7.3"
  }
 },
 "nbformat": 4,
 "nbformat_minor": 4
}
