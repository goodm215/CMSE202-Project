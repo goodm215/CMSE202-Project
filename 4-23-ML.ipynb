{
 "cells": [
  {
   "cell_type": "code",
   "execution_count": 9,
   "metadata": {},
   "outputs": [],
   "source": [
    "'''\n",
    "Important imports for the Project\n",
    "Includes imports for imaging, array creation and animation\n",
    "'''\n",
    "import random \n",
    "import numpy as np\n",
    "import math\n",
    "import matplotlib.pyplot as plt\n",
    "import time  \n",
    "from IPython.display import display, clear_output\n",
    "from matplotlib.offsetbox import OffsetImage, AnnotationBbox\n",
    "from matplotlib.cbook import get_sample_data"
   ]
  },
  {
   "cell_type": "code",
   "execution_count": 10,
   "metadata": {},
   "outputs": [],
   "source": [
    "class bacteria():\n",
    "    \n",
    "    __slots__ = ['x', 'y', 'antibiotic_resistance_gene', 'nutrient_gene', 'temperature_gene', 'toxin_gene', 'mutation_rate', 'reproduction_rate', 'visited']\n",
    "    \n",
    "    def __init__(self, x = random.randint(0,215),y = random.randint(0,215), anti = 0, nutri = 0, temp = 0, toxin = 0, mutation_rate=0.5, reproduction_rate=0.5):\n",
    "        \"\"\"\n",
    "        Creates new bacteria object with random position and genes\n",
    "        :x: x position of bacteria\n",
    "        :y: y position of bacteria\n",
    "        :gene_seed: float value to add to all randomly initialized gene values\n",
    "        :mutation_rate: the mutation rate for bacteria\n",
    "        :reproduction_rate: the rate of reproduction for bacteria\n",
    "        :antibiotic_resistance_gene: gene corresponding to antibiotic resistance for bacteria\n",
    "        :temperature_gene: gene corresponding to temperature resistance for bacteria\n",
    "        :toxin_gene: gene corresponding to toxin resistance for bacteria\n",
    "        \"\"\"\n",
    "        self.x = x\n",
    "        self.y = y\n",
    "        \n",
    "        #visited flag for\n",
    "        self.visited = False\n",
    "        \n",
    "        #initialize all genes to random values between [0, 0.2] + gene_seed\n",
    "        self.antibiotic_resistance_gene = np.random.rand()/5 + anti\n",
    "        self.nutrient_gene = np.random.rand()/5 + nutri\n",
    "        self.temperature_gene = np.random.rand()/5 + temp\n",
    "        self.toxin_gene = np.random.rand()/5 + toxin\n",
    "        self.mutation_rate = mutation_rate\n",
    "        self.reproduction_rate = reproduction_rate\n",
    "        \n",
    "    \n",
    "    def set_position(self, x, y):\n",
    "        \"\"\"\n",
    "        Sets the position of self(bacterial position) using passed arguments\n",
    "        \"\"\"\n",
    "        self.x = x\n",
    "        self.y = y\n",
    "        return\n",
    "    \n",
    "    def get_pos(self):\n",
    "        '''\n",
    "        Used to return the bacterial position at that point in time\n",
    "        '''\n",
    "        return self.x, self.y\n",
    "    \n",
    "    def movement(self, board):\n",
    "        \"\"\"\n",
    "        Randomly move bacteria in the x and y directions based on position in high nutrients nutrients.\n",
    "        Otherwise, the bacteria moves less quickly. Make sure bacteria stay within the limits of the board\n",
    "        \"\"\"\n",
    "        if board.get_nutrients(self.x, self.y) > 0.5: #bacteria will move more if in high level of nutrients\n",
    "            new_x = self.x + np.random.randint(-2, 3)\n",
    "            new_y = self.y + np.random.randint(-2, 3)\n",
    "        else:\n",
    "            new_x = self.x + np.random.randint(-1, 2)\n",
    "            new_y = self.y + np.random.randint(-1, 2)\n",
    "            \n",
    "        if new_x < 0:\n",
    "            new_x = 0\n",
    "        if new_x >= board.ncols:\n",
    "            new_x = board.ncols - 1\n",
    "\n",
    "        if new_y < 0:\n",
    "            new_y = 0\n",
    "        if new_y >= board.nrows:\n",
    "            new_y = board.nrows - 1\n",
    "            \n",
    "        if not board.get_bacteria(new_x, new_y):\n",
    "            board.remove_bacteria(self.x,self.y)\n",
    "            self.x = new_x\n",
    "            self.y = new_y\n",
    "            board.add_bacteria(self.x, self.y, self)\n",
    "            \n",
    "        return\n",
    "\n",
    "    \n",
    "    def reproduce(self, board):\n",
    "        \"\"\"\n",
    "        Returns a new bacteria with genes based off of parent (self)\n",
    "        Reproduction rate boosted if in nutrient dense area\n",
    "        Reproduction rate decreased if in high antibiotics\n",
    "        \"\"\"\n",
    "        #first option could be implemented for multiple offspring at once, would just have to change update function\n",
    "        \n",
    "        if np.random.rand() < (self.reproduction_rate * (1+board.get_nutrients(self.x, self.y))/(1+board.get_antibiotics(self.x, self.y))):  # randomly chooses value from [0,1], if value is less than reproduction rate * (nutrient level/antibiotic level) it reproduces\n",
    "            openings = board.get_openings(self.y, self.x)\n",
    "            if openings is not None:\n",
    "                loc = random.randint(0,len(openings)-1)\n",
    "                newbac = bacteria(openings[loc][1], openings[loc][0], self.antibiotic_resistance_gene, self.nutrient_gene, self.temperature_gene, self.toxin_gene, self.mutation_rate, self.reproduction_rate)\n",
    "                board.add_bacteria(openings[loc][1], openings[loc][0], newbac)\n",
    "        return\n",
    "    \n",
    "    \n",
    "    def mutate(self, negative=False):\n",
    "        \"\"\"\n",
    "        Randomly calculate if bacteria will mutate\n",
    "        If true, randomly add from a N(0, 0.1) distribution\n",
    "        genes mutate independently\n",
    "        :negative: If true, the genes will have a bias to decrease\n",
    "        \"\"\"\n",
    "        weight = 0\n",
    "        if negative:\n",
    "            weight = -0.1\n",
    "        \n",
    "        if np.random.rand() < self.mutation_rate:\n",
    "            self.antibiotic_resistance_gene += (0.1 * np.random.randn() + weight)\n",
    "        if np.random.rand() < self.mutation_rate:\n",
    "            self.nutrient_gene += (0.1 * np.random.randn() + weight)\n",
    "        if np.random.rand() < self.mutation_rate:\n",
    "            self.temperature_gene += (0.1 * np.random.randn() + weight)\n",
    "        if np.random.rand() < self.mutation_rate:\n",
    "            self.toxin_gene += (0.1 * np.random.randn() + weight)\n",
    "        return\n",
    "    \n",
    "    def death(self, the_board):\n",
    "        \"\"\"\n",
    "        Decide whether the gene can overcome the conditions on the board, if not the bacteria dies\n",
    "        :external_condition_value: antibiotics level, toxin level, temperature\n",
    "        \"\"\"\n",
    "        if self.antibiotic_resistance_gene < the_board.get_antibiotics(self.x,self.y):\n",
    "            return True\n",
    "        if self.toxin_gene < the_board.get_toxin(self.x,self.y):\n",
    "            return True\n",
    "        if self.temperature_gene < the_board.get_temperature(self.x,self.y):\n",
    "            return True\n",
    "        return False\n",
    "    \n",
    "    def update(self, board, negative=False):\n",
    "        '''\n",
    "        updates a bacteria\n",
    "        calls all other methods (movement, reproduce, mutate, death, etc)\n",
    "        returns new x and y coordinates of bacteria\n",
    "        '''\n",
    "        if self.death(board):\n",
    "            board.remove_bacteria(self.x, self.y)\n",
    "            return None\n",
    "        self.movement(board)\n",
    "        self.mutate(negative)\n",
    "        self.reproduce(board)\n",
    "        board.toxins(self)\n",
    "        return (self.x, self.y)\n",
    "    \n"
   ]
  },
  {
   "cell_type": "code",
   "execution_count": 20,
   "metadata": {},
   "outputs": [],
   "source": [
    "class board():\n",
    "    \n",
    "    __slots__ = ['nrows', 'ncols', '_nutrients', '_antibiotics', '_temperature','_toxins', '_bacteria']\n",
    "    \n",
    "    def __init__(self, nrows = 9, ncols = 9):\n",
    "        '''\n",
    "        Initializes board with given rows and columns\n",
    "        creates nutrients, anti, toxins, and bacteria private attributes\n",
    "        currently initializes bacteria in column 0, could easily change later\n",
    "        '''\n",
    "        self.nrows = nrows\n",
    "        self.ncols = ncols\n",
    "        self._nutrients = np.zeros((self.nrows,self.ncols))\n",
    "        self._antibiotics = np.zeros((self.nrows,self.ncols))\n",
    "        self._toxins = np.zeros((self.nrows,self.ncols))\n",
    "        self._temperature = np.zeros((self.nrows,self.ncols))\n",
    "        \n",
    "        self._bacteria = np.full([self.nrows,self.ncols], None)\n",
    "        \n",
    "        #currently initializes bacteria in column 0\n",
    "        for y_val in range(nrows):\n",
    "            self._bacteria[y_val,0] = bacteria(0,y_val)\n",
    "        self.nutrients()\n",
    "        self.antibiotics()\n",
    "    \n",
    "    def nutrients(self):\n",
    "        '''\n",
    "        displays nutrients attribute with random nonzero entry added\n",
    "        '''\n",
    "        for col in range(self.ncols):\n",
    "            if col < self.ncols/6:\n",
    "                self._nutrients[:,col] = 0\n",
    "            elif col < 2*self.ncols/6:\n",
    "                self._nutrients[:,col] = .2\n",
    "            elif col < 3*self.ncols/6:\n",
    "                self._nutrients[:,col] = .4\n",
    "            elif col < 4*self.ncols/6:\n",
    "                self._nutrients[:,col] = .6\n",
    "            elif col < 5*self.ncols/6:\n",
    "                self._nutrients[:,col] = .8\n",
    "            else:\n",
    "                self._nutrients[:,col] = 1\n",
    "        \n",
    "        plt.matshow(self._nutrients)\n",
    "        \n",
    "        x_temp = self.ncols//6\n",
    "        y_temp = self.nrows//6\n",
    "        x_ticks = [x_temp,2*x_temp,3*x_temp,4*x_temp,5*x_temp]\n",
    "        y_ticks = [y_temp,2*y_temp,3*y_temp,4*y_temp,5*y_temp]\n",
    "        plt.xticks(x_ticks,x_ticks)\n",
    "        plt.yticks(y_ticks,y_ticks)\n",
    "        plt.show()\n",
    "        return\n",
    "\n",
    "    def antibiotics(self):\n",
    "        '''\n",
    "        displays antibiotics attribute with random nonzero entry added\n",
    "        '''\n",
    "        for row in range(self.nrows):\n",
    "            if row < self.nrows/6:\n",
    "                self._antibiotics[row,:] = 0\n",
    "            elif row < 2*self.nrows/6:\n",
    "                self._antibiotics[row,:] = .2\n",
    "            elif row < 3*self.nrows/6:\n",
    "                self._antibiotics[row,:] = .4\n",
    "            elif row < 4*self.nrows/6:\n",
    "                self._antibiotics[row,:] = .6\n",
    "            elif row < 5*self.nrows/6:\n",
    "                self._antibiotics[row,:] = .8\n",
    "            else:\n",
    "                self._antibiotics[row,:] = 1\n",
    "        \n",
    "        plt.matshow(self._antibiotics)\n",
    "     \n",
    "        x_temp = self.ncols//6\n",
    "        y_temp = self.nrows//6\n",
    "        x_ticks = [x_temp,2*x_temp,3*x_temp,4*x_temp,5*x_temp]\n",
    "        y_ticks = [y_temp,2*y_temp,3*y_temp,4*y_temp,5*y_temp]\n",
    "        plt.xticks(x_ticks,x_ticks)\n",
    "        plt.yticks(y_ticks,y_ticks)\n",
    "        plt.show()\n",
    "        return\n",
    "    \n",
    "    def toxins(self,bacteria, weight=0.1):\n",
    "        '''\n",
    "        Bacteria releases toxin based on it's genes, increases toxin at it's board location\n",
    "        '''\n",
    "        pos = bacteria.get_pos()\n",
    "        xpos = pos[0]\n",
    "        ypos = pos[1]\n",
    "        if bacteria.toxin_gene > 1: # or bacteria.toxin_gene < 1:\n",
    "            self._toxins[ypos,xpos] = bacteria.toxin_gene/weight\n",
    "        return \n",
    "    \n",
    "    def temperature(self, weight = 0.01):\n",
    "        '''\n",
    "        Updates the temperature array on the board, slowly heats board up\n",
    "        '''\n",
    "        for row in range(self.nrows):\n",
    "            for col in range(self.ncols):\n",
    "                self._temperature[row,col] += 1*weight #board slowly heating up, weight switches how fast it heats\n",
    "        return\n",
    "    \n",
    "    def get_nutrients(self, x, y):\n",
    "        '''\n",
    "        returns nutrient value at point\n",
    "        '''\n",
    "        return self._nutrients[y,x]\n",
    "    \n",
    "    def get_antibiotics(self, x, y):\n",
    "        '''\n",
    "        returns antibiotic value at point\n",
    "        '''\n",
    "        return self._antibiotics[y,x]\n",
    "    \n",
    "    def get_toxin(self, x, y):\n",
    "        '''\n",
    "        returns toxin value at point\n",
    "        '''\n",
    "        return self._toxins[y,x]\n",
    "    \n",
    "    def get_temperature(self, x, y):\n",
    "        '''\n",
    "        returns temperature value at point\n",
    "        '''\n",
    "        return self._temperature[y,x]\n",
    "    \n",
    "    def add_bacteria(self, x, y, to_add):\n",
    "        '''\n",
    "        adds a bacteria at point\n",
    "        '''\n",
    "        self._bacteria[y,x] = to_add\n",
    "        return\n",
    "    \n",
    "    def remove_bacteria(self, x, y):\n",
    "        '''\n",
    "        empties location at point\n",
    "        '''\n",
    "        self._bacteria[y,x] = None\n",
    "        \n",
    "    def set_visited(self, x, y, flag):\n",
    "        \"\"\"\n",
    "        Sets the bacteria at [x,y] to visited so it is not updated twice in the update function\n",
    "        \"\"\"\n",
    "        self._bacteria[y,x].visited = flag\n",
    "    \n",
    "    def reset_all_bac(self):\n",
    "        \"\"\"\n",
    "        Resets the visited flag on all bacteria once the update iteration is over\n",
    "        \"\"\"\n",
    "        for row in range(self.nrows):\n",
    "            for col in range(self.ncols):\n",
    "                if self._bacteria[row,col]:\n",
    "                    self.set_visited(col, row, False)\n",
    "    \n",
    "    def update(self, negative=False):\n",
    "        '''\n",
    "        updates the board\n",
    "        :negative: Parameter for whether bacteria will on average mutate with lower genes\n",
    "        '''\n",
    "        #currently only updates bacteria\n",
    "        board.temperature(self) #updates temperature\n",
    "        for row in range(self.nrows):\n",
    "            for col in range(self.ncols):\n",
    "                if self._bacteria[row,col] is not None and not self._bacteria[row, col].visited:\n",
    "                    new_coords = self._bacteria[row,col].update(self, negative)\n",
    "                    if new_coords:\n",
    "                        self.set_visited(new_coords[0], new_coords[1], True)\n",
    "                    self._toxins[row,col] = max(0, self._toxins[row,col] - 0.2)\n",
    "        self.reset_all_bac()\n",
    "                         \n",
    "    def in_region(self,row,col):\n",
    "        '''\n",
    "        returns boolean representing if a location is within the depicted region's boundaries\n",
    "        '''\n",
    "        if row < self.nrows and row >= 0 and col < self.ncols and col >= 0:\n",
    "            return True\n",
    "        else:\n",
    "            return False\n",
    "    def get_bacteria(self, x, y):\n",
    "        '''\n",
    "        Return True if a bacteria currently populates the current x, y position\n",
    "        '''\n",
    "        if self._bacteria[y, x] is not None:\n",
    "            return True\n",
    "        return False\n",
    "        \n",
    "    def get_openings(self,row,col):\n",
    "        '''\n",
    "        Von Neumann neighborhood, meaning all spaces next to it, including diagonals\n",
    "        Returns empty neighbors on bacteria board\n",
    "        '''\n",
    "        surroundings = [(row-1, col), (row, col-1), (row+1, col), (row, col+1), (row-1,col-1), (row-1,col+1), (row+1,col-1), (row+1,col+1)]\n",
    "\n",
    "        open_locations = []\n",
    "        for neighbor in surroundings:\n",
    "            if self.in_region(neighbor[0], neighbor[1]) and self._bacteria[neighbor[0], neighbor[1]] is None:\n",
    "                open_locations.append(neighbor)\n",
    "        if (len(open_locations) > 0):\n",
    "            return open_locations\n",
    "        return None\n",
    "                \n",
    "    def display(self):\n",
    "        '''\n",
    "        displays the board\n",
    "        '''\n",
    "        x = np.arange(0, self.ncols, 1)\n",
    "        y = np.arange(0, self.nrows, 1)\n",
    "        X, Y = np.meshgrid(x, y)\n",
    "        extent = np.min(x), np.max(x), np.min(y), np.max(y)\n",
    "        fig = plt.figure(frameon=False)\n",
    "        Z1 = np.add.outer(range(6), range(6)) % 2  # chessboard\n",
    "        im1 = plt.imshow(Z1, cmap=plt.cm.gray, interpolation='nearest',\n",
    "                 extent=extent)\n",
    "        \n",
    "        #Z2 = (1 - X / 2 + X**5 + Y**3) * np.exp(-(X**2 + Y**2))\n",
    "\n",
    "        #im2 = plt.imshow(Z2, cmap=plt.cm.viridis, alpha=.9, interpolation='bilinear',\n",
    "        #         extent=extent)\n",
    "        cmap = plt.cm.get_cmap('RdPu')\n",
    "        weight = self.get_max_gene_val('toxin')\n",
    "        for x_val in range(self.ncols):\n",
    "            for y_val in range(self.nrows):\n",
    "                if self._bacteria[y_val,x_val] is not None:\n",
    "                    #self._bacteria[y_val,x_val].draw()\n",
    "                    plt.scatter(x_val,y_val, color=cmap(self._bacteria[y_val,x_val].toxin_gene/weight))\n",
    "        \n",
    "        x_temp = self.ncols//6\n",
    "        y_temp = self.nrows//6\n",
    "        x_ticks = [x_temp,2*x_temp,3*x_temp,4*x_temp,5*x_temp]\n",
    "        y_ticks = [y_temp,2*y_temp,3*y_temp,4*y_temp,5*y_temp]\n",
    "        plt.xticks(x_ticks,[.2,.4,.6,.8,1])\n",
    "        plt.yticks(y_ticks,[.2,.4,.6,.8,1])\n",
    "        plt.ylabel(\"antibiotics level\")\n",
    "        plt.xlabel(\"nutrients level\")\n",
    "        plt.show()\n",
    "        print('Bacteria Count: ', self.get_num_bac())\n",
    "\n",
    "        \n",
    "        \n",
    "    def get_num_bac(self):\n",
    "        '''\n",
    "        counts the number of bacteria\n",
    "        '''\n",
    "        count = 0\n",
    "        for x_val in range(self.ncols):\n",
    "            for y_val in range(self.nrows):\n",
    "                if self._bacteria[y_val,x_val] is not None:\n",
    "                    count += 1\n",
    "        return count\n",
    "    \n",
    "    \n",
    "    def get_max_gene_val(self, gene):\n",
    "        \"\"\"\n",
    "        Returns the max gene value of all bacteria on the board\n",
    "        :gene: the gene to get the max value of\n",
    "        \"\"\"\n",
    "        max_val = 0.000001\n",
    "        if gene == 'antibodies':\n",
    "            for row in range(self.nrows):\n",
    "                for col in range(self.ncols):\n",
    "                    if self.get_bacteria(col, row) and self._bacteria[row, col].antibiotic_resistance_gene > max_val:\n",
    "                        max_val = self._bacteria[row, col].antibiotic_resistance_gene\n",
    "        elif gene == 'toxin':\n",
    "            for row in range(self.nrows):\n",
    "                for col in range(self.ncols):\n",
    "                    if self.get_bacteria(col, row) and self._bacteria[row, col].antibiotic_resistance_gene > max_val:\n",
    "                        max_val = self._bacteria[row, col].toxin_gene\n",
    "        return max_val\n",
    "    \n",
    "    def get_average_vals(self):\n",
    "        \"\"\"\n",
    "        Returns a tuple containing average gene values for all bacteria and average toxin levels on board\n",
    "        :return: (avg_antibiotic_gene_val, avg_toxin_gene_val, avg_board_toxicity)\n",
    "        \"\"\"\n",
    "        avg_anti = avg_toxin = avg_toxicity = count = 0\n",
    "        for row in range(self.nrows):\n",
    "            for col in range(self.ncols):\n",
    "                avg_toxicity += self.get_toxin(col, row)\n",
    "                if self.get_bacteria(col, row):\n",
    "                    count += 1\n",
    "                    avg_anti += self._bacteria[row, col].antibiotic_resistance_gene\n",
    "                    avg_toxin += self._bacteria[row, col].toxin_gene\n",
    "        return (avg_anti/count, avg_toxin/count, avg_toxicity/(self.ncols*self.nrows))\n",
    "        "
   ]
  },
  {
   "cell_type": "code",
   "execution_count": 26,
   "metadata": {},
   "outputs": [
    {
     "name": "stdout",
     "output_type": "stream",
     "text": [
      "iteration number 100\n"
     ]
    },
    {
     "data": {
      "text/plain": [
       "<Figure size 432x288 with 0 Axes>"
      ]
     },
     "metadata": {},
     "output_type": "display_data"
    }
   ],
   "source": [
    "height = 120\n",
    "width = 120\n",
    "iterations = 100\n",
    "show_every = 100\n",
    "bac_count = [None] * iterations\n",
    "bac_avg_anti_gene = [None] * iterations\n",
    "bac_avg_toxin_gene = [None] * iterations\n",
    "board_avg_toxicity = [None] * iterations\n",
    "print(\"beginning\")\n",
    "table = board(height, width)\n",
    "print(\"bacteria locations:\")\n",
    "table.display()\n",
    "mylist = []\n",
    "for i in range(iterations):\n",
    "    plt.clf()\n",
    "    clear_output(wait = True)  \n",
    "    print(\"iteration number\",i+1)\n",
    "    table.update()\n",
    "    if i%show_every == 0:\n",
    "        table.display()\n",
    "        time.sleep(2)\n",
    "    bac_count[i] = table.get_num_bac()\n",
    "    if bac_count[i] == 0:\n",
    "        break\n",
    "    mylist.append(table.get_temperature(0,0)) #tracks temperature since it is consistent throughout the board\n",
    "    bac_avg_anti_gene[i], bac_avg_toxin_gene[i], board_avg_toxicity[i] = table.get_average_vals()"
   ]
  },
  {
   "cell_type": "code",
   "execution_count": 30,
   "metadata": {},
   "outputs": [
    {
     "data": {
      "text/plain": [
       "Text(0, 0.5, 'Bacteria Count')"
      ]
     },
     "execution_count": 30,
     "metadata": {},
     "output_type": "execute_result"
    },
    {
     "data": {
      "image/png": "[encoded data removed]",
      "text/plain": [
       "<Figure size 432x288 with 1 Axes>"
      ]
     },
     "metadata": {
      "needs_background": "light"
     },
     "output_type": "display_data"
    }
   ],
   "source": [
    "plt.plot(mylist, bac_count)\n",
    "plt.title('Temperature vs Bacterial Count')\n",
    "plt.xlabel('Temperature')\n",
    "plt.ylabel('Bacteria Count')"
   ]
  },
  {
   "cell_type": "code",
   "execution_count": 31,
   "metadata": {},
   "outputs": [
    {
     "name": "stdout",
     "output_type": "stream",
     "text": [
      "iteration number 100\n"
     ]
    },
    {
     "data": {
      "text/plain": [
       "<Figure size 432x288 with 0 Axes>"
      ]
     },
     "metadata": {},
     "output_type": "display_data"
    }
   ],
   "source": [
    "height = 120\n",
    "width = 120\n",
    "iterations = 100\n",
    "show_every = 100\n",
    "bac_count = [None] * iterations\n",
    "bac_avg_anti_gene = [None] * iterations\n",
    "bac_avg_toxin_gene = [None] * iterations\n",
    "board_avg_toxicity = [None] * iterations\n",
    "print(\"beginning\")\n",
    "table = board(height, width)\n",
    "print(\"bacteria locations:\")\n",
    "table.display()\n",
    "\n",
    "for i in range(iterations):\n",
    "    plt.clf()\n",
    "    clear_output(wait = True)  \n",
    "    print(\"iteration number\",i+1)\n",
    "    table.update()\n",
    "    if i%show_every == 0:\n",
    "        table.display()\n",
    "        time.sleep(2)\n",
    "    bac_count[i] = table.get_num_bac()\n",
    "    if bac_count[i] == 0:\n",
    "        break\n",
    "    bac_avg_anti_gene[i], bac_avg_toxin_gene[i], board_avg_toxicity[i] = table.get_average_vals()"
   ]
  },
  {
   "cell_type": "code",
   "execution_count": 32,
   "metadata": {},
   "outputs": [
    {
     "data": {
      "image/png": "[encoded data removed]",
      "text/plain": [
       "<Figure size 432x288 with 1 Axes>"
      ]
     },
     "metadata": {
      "needs_background": "light"
     },
     "output_type": "display_data"
    },
    {
     "name": "stdout",
     "output_type": "stream",
     "text": [
      "Bacteria Count:  281\n"
     ]
    }
   ],
   "source": [
    "table.display()"
   ]
  },
  {
   "cell_type": "code",
   "execution_count": 33,
   "metadata": {},
   "outputs": [
    {
     "data": {
      "text/plain": [
       "Text(0, 0.5, 'Bacteria Count')"
      ]
     },
     "execution_count": 33,
     "metadata": {},
     "output_type": "execute_result"
    },
    {
     "data": {
      "image/png": "[encoded data removed]",
      "text/plain": [
       "<Figure size 432x288 with 1 Axes>"
      ]
     },
     "metadata": {
      "needs_background": "light"
     },
     "output_type": "display_data"
    }
   ],
   "source": [
    "plt.plot(bac_count)\n",
    "plt.title('Bacteria Count vs Time')\n",
    "plt.xlabel('Iteration')\n",
    "plt.ylabel('Bacteria Count')"
   ]
  },
  {
   "cell_type": "code",
   "execution_count": 64,
   "metadata": {},
   "outputs": [
    {
     "data": {
      "text/plain": [
       "[<matplotlib.lines.Line2D at 0x7fb5a75da7f0>]"
      ]
     },
     "execution_count": 64,
     "metadata": {},
     "output_type": "execute_result"
    },
    {
     "data": {
      "image/png": "[encoded data removed]",
      "text/plain": [
       "<Figure size 432x288 with 1 Axes>"
      ]
     },
     "metadata": {
      "needs_background": "light"
     },
     "output_type": "display_data"
    }
   ],
   "source": [
    "plt.plot(bac_avg_toxin_gene)"
   ]
  },
  {
   "cell_type": "code",
   "execution_count": 65,
   "metadata": {},
   "outputs": [
    {
     "data": {
      "text/plain": [
       "[<matplotlib.lines.Line2D at 0x7fb5aea17518>]"
      ]
     },
     "execution_count": 65,
     "metadata": {},
     "output_type": "execute_result"
    },
    {
     "data": {
      "image/png": "[encoded data removed]",
      "text/plain": [
       "<Figure size 432x288 with 1 Axes>"
      ]
     },
     "metadata": {
      "needs_background": "light"
     },
     "output_type": "display_data"
    }
   ],
   "source": [
    "plt.plot(board_avg_toxicity)"
   ]
  },
  {
   "cell_type": "code",
   "execution_count": 66,
   "metadata": {},
   "outputs": [
    {
     "data": {
      "text/plain": [
       "[<matplotlib.lines.Line2D at 0x7fb5ae389780>]"
      ]
     },
     "execution_count": 66,
     "metadata": {},
     "output_type": "execute_result"
    },
    {
     "data": {
      "image/png": "[encoded data removed]",
      "text/plain": [
       "<Figure size 432x288 with 1 Axes>"
      ]
     },
     "metadata": {
      "needs_background": "light"
     },
     "output_type": "display_data"
    }
   ],
   "source": [
    "plt.plot(bac_avg_anti_gene)"
   ]
  },
  {
   "cell_type": "markdown",
   "metadata": {},
   "source": [
    "## Simulation where mutation rate has negative bias"
   ]
  },
  {
   "cell_type": "code",
   "execution_count": 69,
   "metadata": {},
   "outputs": [
    {
     "name": "stdout",
     "output_type": "stream",
     "text": [
      "iteration number 100\n"
     ]
    },
    {
     "data": {
      "text/plain": [
       "<Figure size 432x288 with 0 Axes>"
      ]
     },
     "metadata": {},
     "output_type": "display_data"
    }
   ],
   "source": [
    "height = 120\n",
    "width = 120\n",
    "iterations = 100\n",
    "show_every = 100\n",
    "bac_count = [None] * iterations\n",
    "bac_avg_anti_gene = [None] * iterations\n",
    "bac_avg_toxin_gene = [None] * iterations\n",
    "board_avg_toxicity = [None] * iterations\n",
    "print(\"beginning\")\n",
    "table = board(height, width)\n",
    "print(\"bacteria locations:\")\n",
    "table.display()\n",
    "\n",
    "for i in range(iterations):\n",
    "    plt.clf()\n",
    "    clear_output(wait = True)  \n",
    "    print(\"iteration number\",i+1)\n",
    "    table.update(negative=True)\n",
    "    if i%show_every == 0:\n",
    "        table.display()\n",
    "        time.sleep(2)\n",
    "    bac_count[i] = table.get_num_bac()\n",
    "    if bac_count[i] == 0:\n",
    "        break\n",
    "    bac_avg_anti_gene[i], bac_avg_toxin_gene[i], board_avg_toxicity[i] = table.get_average_vals()"
   ]
  },
  {
   "cell_type": "code",
   "execution_count": null,
   "metadata": {},
   "outputs": [],
   "source": [
    "table.display()"
   ]
  },
  {
   "cell_type": "code",
   "execution_count": null,
   "metadata": {},
   "outputs": [],
   "source": [
    "plt.plot(bac_count)\n",
    "plt.title('Bacteria Count vs Time')\n",
    "plt.xlabel('Iteration')\n",
    "plt.ylabel('Bacteria Count')"
   ]
  },
  {
   "cell_type": "code",
   "execution_count": 119,
   "metadata": {},
   "outputs": [
    {
     "data": {
      "text/plain": [
       "Text(0, 0.5, 'Average Bacteria Toxin Gene')"
      ]
     },
     "execution_count": 119,
     "metadata": {},
     "output_type": "execute_result"
    },
    {
     "data": {
      "image/png": "[encoded data removed]",
      "text/plain": [
       "<Figure size 432x288 with 1 Axes>"
      ]
     },
     "metadata": {
      "needs_background": "light"
     },
     "output_type": "display_data"
    }
   ],
   "source": [
    "plt.plot(bac_avg_toxin_gene)\n",
    "plt.title('Average Bacteria Toxin Gene vs Time')\n",
    "plt.xlabel('Iteration')\n",
    "plt.ylabel('Average Bacteria Toxin Gene')"
   ]
  },
  {
   "cell_type": "code",
   "execution_count": 120,
   "metadata": {},
   "outputs": [
    {
     "data": {
      "text/plain": [
       "Text(0, 0.5, 'Average Board Toxicity')"
      ]
     },
     "execution_count": 120,
     "metadata": {},
     "output_type": "execute_result"
    },
    {
     "data": {
      "image/png": "[encoded data removed]",
      "text/plain": [
       "<Figure size 432x288 with 1 Axes>"
      ]
     },
     "metadata": {
      "needs_background": "light"
     },
     "output_type": "display_data"
    }
   ],
   "source": [
    "plt.plot(board_avg_toxicity)\n",
    "plt.title('Average Board Toxicity vs Time')\n",
    "plt.xlabel('Iteration')\n",
    "plt.ylabel('Average Board Toxicity')"
   ]
  },
  {
   "cell_type": "code",
   "execution_count": 121,
   "metadata": {},
   "outputs": [
    {
     "data": {
      "text/plain": [
       "Text(0, 0.5, 'Average Bacteria Antibiotic Gene')"
      ]
     },
     "execution_count": 121,
     "metadata": {},
     "output_type": "execute_result"
    },
    {
     "data": {
      "image/png": "[encoded data removed]",
      "text/plain": [
       "<Figure size 432x288 with 1 Axes>"
      ]
     },
     "metadata": {
      "needs_background": "light"
     },
     "output_type": "display_data"
    }
   ],
   "source": [
    "plt.plot(bac_avg_anti_gene)\n",
    "plt.title('Average Bacteria Antibiotic Gene vs Time')\n",
    "plt.xlabel('Iteration')\n",
    "plt.ylabel('Average Bacteria Antibiotic Gene')"
   ]
  },
  {
   "cell_type": "code",
   "execution_count": null,
   "metadata": {},
   "outputs": [],
   "source": []
  }
 ],
 "metadata": {
  "kernelspec": {
   "display_name": "Python 3",
   "language": "python",
   "name": "python3"
  },
  "language_info": {
   "codemirror_mode": {
    "name": "ipython",
    "version": 3
   },
   "file_extension": ".py",
   "mimetype": "text/x-python",
   "name": "python",
   "nbconvert_exporter": "python",
   "pygments_lexer": "ipython3",
   "version": "3.7.3"
  }
 },
 "nbformat": 4,
 "nbformat_minor": 4
}
