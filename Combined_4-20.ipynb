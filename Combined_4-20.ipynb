{
 "cells": [
  {
   "cell_type": "code",
   "execution_count": 22,
   "metadata": {},
   "outputs": [],
   "source": [
    "#imports\n",
    "import random \n",
    "import numpy as np\n",
    "import math\n",
    "import matplotlib.pyplot as plt\n",
    "import time  \n",
    "from IPython.display import display, clear_output\n",
    "from matplotlib.offsetbox import OffsetImage, AnnotationBbox\n",
    "from matplotlib.cbook import get_sample_data\n",
    "def imscatter(x, y, image, ax=None, zoom=1):\n",
    "    if ax is None:\n",
    "        ax = plt.gca()\n",
    "    try:\n",
    "        image = plt.imread(image)\n",
    "    except TypeError:\n",
    "        pass\n",
    "    im = OffsetImage(image, zoom=zoom)\n",
    "    x, y = np.atleast_1d(x, y)\n",
    "    artists = []\n",
    "    for x0, y0 in zip(x, y):\n",
    "        ab = AnnotationBbox(im, (x0, y0), xycoords='data', \\\n",
    "                            frameon=False)\n",
    "        artists.append(ax.add_artist(ab))\n",
    "    ax.update_datalim(np.column_stack([x, y]))\n",
    "    ax.autoscale()\n",
    "    return artists\n",
    "#from inclass assignment"
   ]
  },
  {
   "cell_type": "code",
   "execution_count": 28,
   "metadata": {},
   "outputs": [],
   "source": [
    "class bacteria():\n",
    "    \n",
    "    __slots__ = ['x', 'y', 'antibiotic_resistance_gene', 'nutrient_gene', 'temperature_gene', 'toxin_gene', 'mutation_rate', 'reproduction_rate']\n",
    "    \n",
    "    def __init__(self, x = random.randint(0,215),y = random.randint(0,215), anti = 0, nutri = 0, temp = 0, toxin = 0, mutation_rate=0.1, reproduction_rate=0.1):\n",
    "        \"\"\"\n",
    "        Creates new bacteria object with random position and genes\n",
    "        :x: x position of bacteria\n",
    "        :y: y position of bacteria\n",
    "        :gene_seed: float value to add to all randomly initialized gene values\n",
    "        :mutation_rate: the mutation rate for bacteria\n",
    "        \"\"\"\n",
    "        self.x = x\n",
    "        self.y = y\n",
    "        \n",
    "        #initialize all genes to random values between [0, 0.2] + gene_seed\n",
    "        self.antibiotic_resistance_gene = np.random.rand()/5 + anti\n",
    "        self.nutrient_gene = np.random.rand()/5 + nutri\n",
    "        self.temperature_gene = np.random.rand()/5 + temp\n",
    "        self.toxin_gene = np.random.rand()/5 + toxin\n",
    "        \n",
    "        self.mutation_rate = mutation_rate\n",
    "        self.reproduction_rate = reproduction_rate\n",
    "        \n",
    "    \n",
    "    def set_position(self, x, y):\n",
    "        \"\"\"\n",
    "        Sets the position of self using passed arguments\n",
    "        \"\"\"\n",
    "        self.x = x\n",
    "        self.y = y\n",
    "        return\n",
    "    \n",
    "    def get_pos(self):\n",
    "        return self.x, self.y\n",
    "    \n",
    "    def movement(self, board):\n",
    "        \"\"\"\n",
    "        Randomly move bacteria up to two units in the x and y directions based on nutrients and antibiotics\n",
    "        \"\"\"\n",
    "        if board.get_antibiotics(self.x, self.y) > 0.5:\n",
    "            new_x = self.x + np.random.randint(-2, 3)\n",
    "            new_y = self.y + np.random.randint(-2, 3)\n",
    "        else:\n",
    "            new_x = self.x + np.random.randint(-1, 2)\n",
    "            new_y = self.y + np.random.randint(-1, 2)\n",
    "            \n",
    "        if new_x >= 0 and new_x < 216 and not board.get_bacteria(new_x, new_y):\n",
    "            self.x = new_x\n",
    "        if new_y >= 0 and new_y < 216 and not board.get_bacteria(new_x, new_y):\n",
    "            self.y = new_y    \n",
    "        return (self.x, self.y)\n",
    "\n",
    "    \n",
    "    def reproduce(self, board):\n",
    "        \"\"\"\n",
    "        Returns a new bacteria with genes based off of parent (self)\n",
    "        \"\"\"\n",
    "        if np.random.rand() < self.reproduction_rate:\n",
    "            for new_x in range(self.x - 1, self.x + 2):\n",
    "                for new_y in range(self.y - 1, self.y + 2):\n",
    "                    if new_x >= 0 and new_x < 216 and new_y >= 0 and new_y < 216 and not board.get_bacteria(new_x, new_y):\n",
    "                        newbac = bacteria(new_x, new_y, self.antibiotic_resistance_gene, self.nutrient_gene, self.temperature_gene, self.toxin_gene)\n",
    "                        board.add_bacteria(new_x, new_y, newbac)\n",
    "                        return newbac\n",
    "                    \n",
    "        '''\n",
    "        if np.random.rand() < self.reproduction_rate:\n",
    "            openings = board.get_openings(self.y, self.x)\n",
    "            loc = random.randint(0,len(openings)-1)\n",
    "            newbac = bacteria(openings[loc][1],openings[loc][0], self.antibiotic_resistance_gene, self.nutrient_gene, self.temperature_gene, self.immune_resistance_gene)\n",
    "            return newbac\n",
    "        return None\n",
    "        was not sure which code to use to combine\n",
    "        '''\n",
    "    \n",
    "        \n",
    "    def mutate(self):\n",
    "        \"\"\"\n",
    "        Randomly calculate if bacteria will mutate\n",
    "        If true, randomly add from a N(0, 0.1) distribution\n",
    "        genes mutate independently\n",
    "        \"\"\"\n",
    "        if np.random.rand() < self.mutation_rate:\n",
    "            self.antibiotic_resistance_gene += 0.1 * np.random.randn()\n",
    "        if np.random.rand() < self.mutation_rate:\n",
    "            self.nutrient_gene += 0.1 * np.random.randn()\n",
    "        if np.random.rand() < self.mutation_rate:\n",
    "            self.temperature_gene += 0.1 * np.random.randn()\n",
    "        if np.random.rand() < self.mutation_rate:\n",
    "            self.toxin_gene += 0.1 * np.random.randn()\n",
    "    \n",
    "    def death(self, the_board):\n",
    "        \"\"\"\n",
    "        Calculate something related to the current conditions the bacteria is experiencing to see if it dies based on its genes.\n",
    "        :external_condition_value: could be anything such as temperature, antibiotics level, white blood cell count, etc\n",
    "        \"\"\"\n",
    "        if self.antibiotic_resistance_gene < the_board.get_antibiotics(self.x,self.y):\n",
    "            return True\n",
    "        if self.nutrient_gene < the_board.get_nutrients(self.x,self.y):\n",
    "            return True\n",
    "        if self.toxin_gene < the_board.get_toxin(self.x,self.y):\n",
    "            return True\n",
    "        #implement temperature \n",
    "        return False\n",
    "    \n",
    "    def update(self, board):\n",
    "        '''\n",
    "        updates a bacteria\n",
    "        calls all other methods (movement, reproduce, mutate, death, etc)\n",
    "        returns boolean for if bacteria has died\n",
    "        '''\n",
    "        if self.death(board):\n",
    "            return True\n",
    "        self.movement(board)\n",
    "        self.mutate()\n",
    "        new_bac = self.reproduce(board)\n",
    "        if new_bac is not None:\n",
    "            board[new_bac.y,new_bac.x] = new_bac\n",
    "        return False\n",
    "    \n",
    "    def draw(self):\n",
    "        image_path = 'bacteria.jpg'\n",
    "        imscatter(self.x, self.y, image_path, zoom=0.8)\n",
    "        return"
   ]
  },
  {
   "cell_type": "code",
   "execution_count": 29,
   "metadata": {},
   "outputs": [
    {
     "data": {
      "image/png": "[encoded data removed]",
      "text/plain": [
       "<Figure size 288x288 with 1 Axes>"
      ]
     },
     "metadata": {
      "needs_background": "light"
     },
     "output_type": "display_data"
    },
    {
     "data": {
      "image/png": "[encoded data removed]",
      "text/plain": [
       "<Figure size 288x288 with 1 Axes>"
      ]
     },
     "metadata": {
      "needs_background": "light"
     },
     "output_type": "display_data"
    },
    {
     "data": {
      "image/png": "[encoded data removed]",
      "text/plain": [
       "<Figure size 432x288 with 1 Axes>"
      ]
     },
     "metadata": {
      "needs_background": "light"
     },
     "output_type": "display_data"
    }
   ],
   "source": [
    "#https://stackoverflow.com/questions/10194482/custom-matplotlib-plot-chess-board-like-table-with-colored-cells\n",
    "class board():\n",
    "    \n",
    "    __slots__ = ['nrows', 'ncols', '_nutrients', '_antibiotics', '_toxins', '_bacteria']\n",
    "    \n",
    "    \n",
    "    def __init__(self, nrows = 9, ncols = 9):\n",
    "        '''\n",
    "        Initializes board with given rows and columns\n",
    "        creates nutrients, anti, toxins, and bacteria private attributes\n",
    "        currently initializes bacteria in column 0, could easily change later\n",
    "        '''\n",
    "        self.nrows = nrows\n",
    "        self.ncols = ncols\n",
    "        self._nutrients = np.zeros((self.nrows,self.ncols))\n",
    "        self._antibiotics = np.zeros((self.nrows,self.ncols))\n",
    "        self._toxins = np.zeros((self.nrows,self.ncols))\n",
    "        self._bacteria = np.full([self.nrows,self.ncols], None)\n",
    "        \n",
    "        #currently initializes bacteria in column 0\n",
    "        for y_val in range(nrows):\n",
    "            self._bacteria[y_val,0] = bacteria(0,y_val)\n",
    "        #print(\"nutrient initialization: (antibiotics and toxins have same init)\")\n",
    "        #print(self._nutrients)\n",
    "        #print('\\n')\n",
    "        #print(\"bacteria locations:\")\n",
    "        #print(self._bacteria)\n",
    "        self.nutrients()\n",
    "        self.antibiotics()\n",
    "    \n",
    "    def nutrients(self):\n",
    "        '''\n",
    "        displays nutrients attribute with random nonzero entry added\n",
    "        '''\n",
    "        for col in range(self.ncols):\n",
    "            if col < self.ncols/6:\n",
    "                self._nutrients[:,col] = 0\n",
    "            elif col < 2*self.ncols/6:\n",
    "                self._nutrients[:,col] = .2\n",
    "            elif col < 3*self.ncols/6:\n",
    "                self._nutrients[:,col] = .4\n",
    "            elif col < 4*self.ncols/6:\n",
    "                self._nutrients[:,col] = .6\n",
    "            elif col < 5*self.ncols/6:\n",
    "                self._nutrients[:,col] = .8\n",
    "            else:\n",
    "                self._nutrients[:,col] = 1\n",
    "        \n",
    "        plt.matshow(self._nutrients)\n",
    "        \n",
    "        x_temp = self.ncols//6\n",
    "        y_temp = self.nrows//6\n",
    "        x_ticks = [x_temp,2*x_temp,3*x_temp,4*x_temp,5*x_temp]\n",
    "        y_ticks = [y_temp,2*y_temp,3*y_temp,4*y_temp,5*y_temp]\n",
    "        plt.xticks(x_ticks,x_ticks)\n",
    "        plt.yticks(y_ticks,y_ticks)\n",
    "        plt.show()\n",
    "        return\n",
    "\n",
    "    def antibiotics(self):\n",
    "        '''\n",
    "        displays antibiotics attribute with random nonzero entry added\n",
    "        '''\n",
    "        for row in range(self.nrows):\n",
    "            if row < self.nrows/6:\n",
    "                self._antibiotics[row,:] = 0\n",
    "            elif row < 2*self.nrows/6:\n",
    "                self._antibiotics[row,:] = .2\n",
    "            elif row < 3*self.nrows/6:\n",
    "                self._antibiotics[row,:] = .4\n",
    "            elif row < 4*self.nrows/6:\n",
    "                self._antibiotics[row,:] = .6\n",
    "            elif row < 5*self.nrows/6:\n",
    "                self._antibiotics[row,:] = .8\n",
    "            else:\n",
    "                self._antibiotics[row,:] = 1\n",
    "        \n",
    "        plt.matshow(self._antibiotics)\n",
    "        \n",
    "        x_temp = self.ncols//6\n",
    "        y_temp = self.nrows//6\n",
    "        x_ticks = [x_temp,2*x_temp,3*x_temp,4*x_temp,5*x_temp]\n",
    "        y_ticks = [y_temp,2*y_temp,3*y_temp,4*y_temp,5*y_temp]\n",
    "        plt.xticks(x_ticks,x_ticks)\n",
    "        plt.yticks(y_ticks,y_ticks)\n",
    "        plt.show()\n",
    "        return\n",
    "    \n",
    "    def toxins(self,bacteria):\n",
    "        pos = bacteria.get_pos()\n",
    "        xpos = position[0]\n",
    "        ypos = position[1]\n",
    "        if bacteria.toxin_gene > 1:\n",
    "            self._toxins[xpos,ypos] += 1\n",
    "        return \n",
    "    \n",
    "    def get_nutrients(self, x, y):\n",
    "        '''\n",
    "        returns nutrient value at point\n",
    "        '''\n",
    "        return self._nutrients[x,y]\n",
    "    \n",
    "    def get_antibiotics(self, x, y):\n",
    "        '''\n",
    "        returns antibiotic value at point\n",
    "        '''\n",
    "        return self._antibiotics[x,y]\n",
    "    \n",
    "    def get_toxin(self, x, y):\n",
    "        '''\n",
    "        returns toxin value at point\n",
    "        '''\n",
    "        return self._toxins[x,y]\n",
    "    \n",
    "    def add_bacteria(self, x, y, to_add):\n",
    "        '''\n",
    "        adds a bacteria at point\n",
    "        '''\n",
    "        self._bacteria[x,y] = to_add\n",
    "        return\n",
    "    \n",
    "    def update(self):\n",
    "        '''\n",
    "        updates the board\n",
    "        '''\n",
    "        #currently only updates bacteria\n",
    "        for row in range(self.nrows):\n",
    "            for col in range(self.ncols):\n",
    "                if self._bacteria[row,col] is not None:\n",
    "                    check = self._bacteria[row,col].update(self)\n",
    "                    if check:\n",
    "                        self._bacteria[row,col] = None\n",
    "                         \n",
    "    def in_region(self,row,col):\n",
    "        '''\n",
    "        returns boolean representing if a location is within the depicted region's boundaries\n",
    "        '''\n",
    "        if row <= self.nrows and row >= 0 and col <= self.ncols and col >= 0:\n",
    "            return True\n",
    "        else:\n",
    "            return False\n",
    "    def get_bacteria(self, x, y):\n",
    "        '''\n",
    "        Return True if a bacteria currently populates the current x, y position\n",
    "        '''\n",
    "        if self._bacteria[y, x]:\n",
    "            return True\n",
    "        return False\n",
    "        \n",
    "    def get_openings(self,row,col):\n",
    "        '''\n",
    "        Von Neumann neighborhood, meaning all spaces next to it, including diagonals\n",
    "        Returns empty neighbors on bacteria board\n",
    "        '''\n",
    "        surroundings = [(row-1, col), (row, col-1), (row+1, col), (row, col+1), (row-1,col-1), (row-1,col+1), (row+1,col-1), (row+1,col+1)]\n",
    "\n",
    "        open_locations = []\n",
    "        for neighbor in surroundings:\n",
    "            if self.in_region(neighbor[0], neighbor[1]) and self._bacteria[neighbor[0], neighbor[1]] is None:\n",
    "                open_locations.append(neighbor)\n",
    "\n",
    "        return open_locations\n",
    "                \n",
    "    def display(self):\n",
    "        '''\n",
    "        displays the board\n",
    "        '''\n",
    "        x = np.arange(0, 216, 1)\n",
    "        y = np.arange(0, 216, 1)\n",
    "        X, Y = np.meshgrid(x, y)\n",
    "        extent = np.min(x), np.max(x), np.min(y), np.max(y)\n",
    "        fig = plt.figure(frameon=False)\n",
    "        Z1 = np.add.outer(range(6), range(6)) % 2  # chessboard\n",
    "        im1 = plt.imshow(Z1, cmap=plt.cm.gray, interpolation='nearest',\n",
    "                 extent=extent)\n",
    "        \n",
    "        #Z2 = (1 - X / 2 + X**5 + Y**3) * np.exp(-(X**2 + Y**2))\n",
    "\n",
    "        #im2 = plt.imshow(Z2, cmap=plt.cm.viridis, alpha=.9, interpolation='bilinear',\n",
    "        #         extent=extent)\n",
    "        for x_val in range(216):\n",
    "            for y_val in range(216):\n",
    "                if self._bacteria[y_val,x_val] is not None:\n",
    "                    #self._bacteria[y_val,x_val].draw()\n",
    "                    plt.scatter(x_val,y_val)\n",
    "        \n",
    "        x_temp = self.ncols//6\n",
    "        y_temp = self.nrows//6\n",
    "        x_ticks = [x_temp,2*x_temp,3*x_temp,4*x_temp,5*x_temp]\n",
    "        y_ticks = [y_temp,2*y_temp,3*y_temp,4*y_temp,5*y_temp]\n",
    "        plt.xticks(x_ticks,[.2,.4,.6,.8,1])\n",
    "        plt.yticks(y_ticks,[.2,.4,.6,.8,1])\n",
    "        plt.ylabel(\"antibiotics level\")\n",
    "        plt.xlabel(\"nutrients level\")\n",
    "        plt.show()\n",
    "\n",
    "c = board(216,216)\n",
    "c.display()"
   ]
  },
  {
   "cell_type": "code",
   "execution_count": 30,
   "metadata": {},
   "outputs": [
    {
     "data": {
      "image/png": "[encoded data removed]",
      "text/plain": [
       "<Figure size 288x288 with 1 Axes>"
      ]
     },
     "metadata": {
      "needs_background": "light"
     },
     "output_type": "display_data"
    },
    {
     "data": {
      "image/png": "[encoded data removed]",
      "text/plain": [
       "<Figure size 288x288 with 1 Axes>"
      ]
     },
     "metadata": {
      "needs_background": "light"
     },
     "output_type": "display_data"
    }
   ],
   "source": [
    "b = bacteria()\n",
    "\n",
    "height = 216\n",
    "width = 216\n",
    "table = board(height, width)\n",
    "\n",
    "allbac = []\n",
    "allbac.append(b)\n",
    "for d in range(50):\n",
    "    for ba in range(np.size(allbac)):\n",
    "        table.add_bacteria(allbac[ba].x, allbac[ba].y, None)\n",
    "        new_x, new_y = allbac[ba].movement(table)\n",
    "        table.add_bacteria(new_x, new_y, allbac[ba])\n",
    "        newbac = allbac[ba].reproduce(table)\n",
    "        if newbac:\n",
    "            allbac.append(newbac)"
   ]
  },
  {
   "cell_type": "code",
   "execution_count": 33,
   "metadata": {},
   "outputs": [
    {
     "data": {
      "image/png": "[encoded data removed]",
      "text/plain": [
       "<Figure size 288x288 with 1 Axes>"
      ]
     },
     "metadata": {
      "needs_background": "light"
     },
     "output_type": "display_data"
    },
    {
     "data": {
      "image/png": "[encoded data removed]",
      "text/plain": [
       "<Figure size 288x288 with 1 Axes>"
      ]
     },
     "metadata": {
      "needs_background": "light"
     },
     "output_type": "display_data"
    },
    {
     "name": "stdout",
     "output_type": "stream",
     "text": [
      "bacteria locations:\n",
      "[[<__main__.bacteria object at 0x7f56243cca08> None None ... None None\n",
      "  None]\n",
      " [<__main__.bacteria object at 0x7f56229b1ee8> None None ... None None\n",
      "  None]\n",
      " [<__main__.bacteria object at 0x7f5622876f50> None None ... None None\n",
      "  None]\n",
      " ...\n",
      " [<__main__.bacteria object at 0x7f564e2375f8> None None ... None None\n",
      "  None]\n",
      " [<__main__.bacteria object at 0x7f56224d48d0> None None ... None None\n",
      "  None]\n",
      " [<__main__.bacteria object at 0x7f56224d4798> None None ... None None\n",
      "  None]]\n"
     ]
    },
    {
     "ename": "TypeError",
     "evalue": "'board' object does not support item assignment",
     "output_type": "error",
     "traceback": [
      "\u001b[0;31m---------------------------------------------------------------------------\u001b[0m",
      "\u001b[0;31mTypeError\u001b[0m                                 Traceback (most recent call last)",
      "\u001b[0;32m<ipython-input-33-b625c488f726>\u001b[0m in \u001b[0;36m<module>\u001b[0;34m\u001b[0m\n\u001b[1;32m      7\u001b[0m \u001b[0;34m\u001b[0m\u001b[0m\n\u001b[1;32m      8\u001b[0m \u001b[0;32mfor\u001b[0m \u001b[0mi\u001b[0m \u001b[0;32min\u001b[0m \u001b[0mrange\u001b[0m\u001b[0;34m(\u001b[0m\u001b[0miterations\u001b[0m\u001b[0;34m)\u001b[0m\u001b[0;34m:\u001b[0m\u001b[0;34m\u001b[0m\u001b[0;34m\u001b[0m\u001b[0m\n\u001b[0;32m----> 9\u001b[0;31m     \u001b[0mtable\u001b[0m\u001b[0;34m.\u001b[0m\u001b[0mupdate\u001b[0m\u001b[0;34m(\u001b[0m\u001b[0;34m)\u001b[0m\u001b[0;34m\u001b[0m\u001b[0;34m\u001b[0m\u001b[0m\n\u001b[0m",
      "\u001b[0;32m<ipython-input-29-6228cdbb2994>\u001b[0m in \u001b[0;36mupdate\u001b[0;34m(self)\u001b[0m\n\u001b[1;32m    128\u001b[0m             \u001b[0;32mfor\u001b[0m \u001b[0mcol\u001b[0m \u001b[0;32min\u001b[0m \u001b[0mrange\u001b[0m\u001b[0;34m(\u001b[0m\u001b[0mself\u001b[0m\u001b[0;34m.\u001b[0m\u001b[0mncols\u001b[0m\u001b[0;34m)\u001b[0m\u001b[0;34m:\u001b[0m\u001b[0;34m\u001b[0m\u001b[0;34m\u001b[0m\u001b[0m\n\u001b[1;32m    129\u001b[0m                 \u001b[0;32mif\u001b[0m \u001b[0mself\u001b[0m\u001b[0;34m.\u001b[0m\u001b[0m_bacteria\u001b[0m\u001b[0;34m[\u001b[0m\u001b[0mrow\u001b[0m\u001b[0;34m,\u001b[0m\u001b[0mcol\u001b[0m\u001b[0;34m]\u001b[0m \u001b[0;32mis\u001b[0m \u001b[0;32mnot\u001b[0m \u001b[0;32mNone\u001b[0m\u001b[0;34m:\u001b[0m\u001b[0;34m\u001b[0m\u001b[0;34m\u001b[0m\u001b[0m\n\u001b[0;32m--> 130\u001b[0;31m                     \u001b[0mcheck\u001b[0m \u001b[0;34m=\u001b[0m \u001b[0mself\u001b[0m\u001b[0;34m.\u001b[0m\u001b[0m_bacteria\u001b[0m\u001b[0;34m[\u001b[0m\u001b[0mrow\u001b[0m\u001b[0;34m,\u001b[0m\u001b[0mcol\u001b[0m\u001b[0;34m]\u001b[0m\u001b[0;34m.\u001b[0m\u001b[0mupdate\u001b[0m\u001b[0;34m(\u001b[0m\u001b[0mself\u001b[0m\u001b[0;34m)\u001b[0m\u001b[0;34m\u001b[0m\u001b[0;34m\u001b[0m\u001b[0m\n\u001b[0m\u001b[1;32m    131\u001b[0m                     \u001b[0;32mif\u001b[0m \u001b[0mcheck\u001b[0m\u001b[0;34m:\u001b[0m\u001b[0;34m\u001b[0m\u001b[0;34m\u001b[0m\u001b[0m\n\u001b[1;32m    132\u001b[0m                         \u001b[0mself\u001b[0m\u001b[0;34m.\u001b[0m\u001b[0m_bacteria\u001b[0m\u001b[0;34m[\u001b[0m\u001b[0mrow\u001b[0m\u001b[0;34m,\u001b[0m\u001b[0mcol\u001b[0m\u001b[0;34m]\u001b[0m \u001b[0;34m=\u001b[0m \u001b[0;32mNone\u001b[0m\u001b[0;34m\u001b[0m\u001b[0;34m\u001b[0m\u001b[0m\n",
      "\u001b[0;32m<ipython-input-28-d168587aecd1>\u001b[0m in \u001b[0;36mupdate\u001b[0;34m(self, board)\u001b[0m\n\u001b[1;32m    117\u001b[0m         \u001b[0mnew_bac\u001b[0m \u001b[0;34m=\u001b[0m \u001b[0mself\u001b[0m\u001b[0;34m.\u001b[0m\u001b[0mreproduce\u001b[0m\u001b[0;34m(\u001b[0m\u001b[0mboard\u001b[0m\u001b[0;34m)\u001b[0m\u001b[0;34m\u001b[0m\u001b[0;34m\u001b[0m\u001b[0m\n\u001b[1;32m    118\u001b[0m         \u001b[0;32mif\u001b[0m \u001b[0mnew_bac\u001b[0m \u001b[0;32mis\u001b[0m \u001b[0;32mnot\u001b[0m \u001b[0;32mNone\u001b[0m\u001b[0;34m:\u001b[0m\u001b[0;34m\u001b[0m\u001b[0;34m\u001b[0m\u001b[0m\n\u001b[0;32m--> 119\u001b[0;31m             \u001b[0mboard\u001b[0m\u001b[0;34m[\u001b[0m\u001b[0mnew_bac\u001b[0m\u001b[0;34m.\u001b[0m\u001b[0my\u001b[0m\u001b[0;34m,\u001b[0m\u001b[0mnew_bac\u001b[0m\u001b[0;34m.\u001b[0m\u001b[0mx\u001b[0m\u001b[0;34m]\u001b[0m \u001b[0;34m=\u001b[0m \u001b[0mnew_bac\u001b[0m\u001b[0;34m\u001b[0m\u001b[0;34m\u001b[0m\u001b[0m\n\u001b[0m\u001b[1;32m    120\u001b[0m         \u001b[0;32mreturn\u001b[0m \u001b[0;32mFalse\u001b[0m\u001b[0;34m\u001b[0m\u001b[0;34m\u001b[0m\u001b[0m\n\u001b[1;32m    121\u001b[0m \u001b[0;34m\u001b[0m\u001b[0m\n",
      "\u001b[0;31mTypeError\u001b[0m: 'board' object does not support item assignment"
     ]
    }
   ],
   "source": [
    "height = 36\n",
    "width = 36\n",
    "iterations = 50\n",
    "table = board(height, width)\n",
    "print(\"bacteria locations:\")\n",
    "print(table._bacteria)\n",
    "\n",
    "for i in range(iterations):\n",
    "    table.update()"
   ]
  },
  {
   "cell_type": "code",
   "execution_count": 32,
   "metadata": {},
   "outputs": [
    {
     "data": {
      "image/png": "[encoded data removed]",
      "text/plain": [
       "<Figure size 288x288 with 1 Axes>"
      ]
     },
     "metadata": {
      "needs_background": "light"
     },
     "output_type": "display_data"
    },
    {
     "data": {
      "image/png": "[encoded data removed]",
      "text/plain": [
       "<Figure size 288x288 with 1 Axes>"
      ]
     },
     "metadata": {
      "needs_background": "light"
     },
     "output_type": "display_data"
    },
    {
     "name": "stdout",
     "output_type": "stream",
     "text": [
      "bacteria locations:\n",
      "[[<__main__.bacteria object at 0x7f564e2399a0> None None ... None None\n",
      "  None]\n",
      " [<__main__.bacteria object at 0x7f564e239a08> None None ... None None\n",
      "  None]\n",
      " [<__main__.bacteria object at 0x7f564e239938> None None ... None None\n",
      "  None]\n",
      " ...\n",
      " [<__main__.bacteria object at 0x7f56229c1320> None None ... None None\n",
      "  None]\n",
      " [<__main__.bacteria object at 0x7f56229c1388> None None ... None None\n",
      "  None]\n",
      " [<__main__.bacteria object at 0x7f56229c13f0> None None ... None None\n",
      "  None]]\n"
     ]
    },
    {
     "ename": "TypeError",
     "evalue": "'board' object does not support item assignment",
     "output_type": "error",
     "traceback": [
      "\u001b[0;31m---------------------------------------------------------------------------\u001b[0m",
      "\u001b[0;31mTypeError\u001b[0m                                 Traceback (most recent call last)",
      "\u001b[0;32m<ipython-input-32-d978e93a0f63>\u001b[0m in \u001b[0;36m<module>\u001b[0;34m\u001b[0m\n\u001b[1;32m      7\u001b[0m \u001b[0;34m\u001b[0m\u001b[0m\n\u001b[1;32m      8\u001b[0m \u001b[0;32mfor\u001b[0m \u001b[0mi\u001b[0m \u001b[0;32min\u001b[0m \u001b[0mrange\u001b[0m\u001b[0;34m(\u001b[0m\u001b[0miterations\u001b[0m\u001b[0;34m)\u001b[0m\u001b[0;34m:\u001b[0m\u001b[0;34m\u001b[0m\u001b[0;34m\u001b[0m\u001b[0m\n\u001b[0;32m----> 9\u001b[0;31m     \u001b[0mtable\u001b[0m\u001b[0;34m.\u001b[0m\u001b[0mupdate\u001b[0m\u001b[0;34m(\u001b[0m\u001b[0;34m)\u001b[0m\u001b[0;34m\u001b[0m\u001b[0;34m\u001b[0m\u001b[0m\n\u001b[0m\u001b[1;32m     10\u001b[0m     \u001b[0mtable\u001b[0m\u001b[0;34m.\u001b[0m\u001b[0mdisplay\u001b[0m\u001b[0;34m(\u001b[0m\u001b[0;34m)\u001b[0m\u001b[0;34m\u001b[0m\u001b[0;34m\u001b[0m\u001b[0m\n",
      "\u001b[0;32m<ipython-input-29-6228cdbb2994>\u001b[0m in \u001b[0;36mupdate\u001b[0;34m(self)\u001b[0m\n\u001b[1;32m    128\u001b[0m             \u001b[0;32mfor\u001b[0m \u001b[0mcol\u001b[0m \u001b[0;32min\u001b[0m \u001b[0mrange\u001b[0m\u001b[0;34m(\u001b[0m\u001b[0mself\u001b[0m\u001b[0;34m.\u001b[0m\u001b[0mncols\u001b[0m\u001b[0;34m)\u001b[0m\u001b[0;34m:\u001b[0m\u001b[0;34m\u001b[0m\u001b[0;34m\u001b[0m\u001b[0m\n\u001b[1;32m    129\u001b[0m                 \u001b[0;32mif\u001b[0m \u001b[0mself\u001b[0m\u001b[0;34m.\u001b[0m\u001b[0m_bacteria\u001b[0m\u001b[0;34m[\u001b[0m\u001b[0mrow\u001b[0m\u001b[0;34m,\u001b[0m\u001b[0mcol\u001b[0m\u001b[0;34m]\u001b[0m \u001b[0;32mis\u001b[0m \u001b[0;32mnot\u001b[0m \u001b[0;32mNone\u001b[0m\u001b[0;34m:\u001b[0m\u001b[0;34m\u001b[0m\u001b[0;34m\u001b[0m\u001b[0m\n\u001b[0;32m--> 130\u001b[0;31m                     \u001b[0mcheck\u001b[0m \u001b[0;34m=\u001b[0m \u001b[0mself\u001b[0m\u001b[0;34m.\u001b[0m\u001b[0m_bacteria\u001b[0m\u001b[0;34m[\u001b[0m\u001b[0mrow\u001b[0m\u001b[0;34m,\u001b[0m\u001b[0mcol\u001b[0m\u001b[0;34m]\u001b[0m\u001b[0;34m.\u001b[0m\u001b[0mupdate\u001b[0m\u001b[0;34m(\u001b[0m\u001b[0mself\u001b[0m\u001b[0;34m)\u001b[0m\u001b[0;34m\u001b[0m\u001b[0;34m\u001b[0m\u001b[0m\n\u001b[0m\u001b[1;32m    131\u001b[0m                     \u001b[0;32mif\u001b[0m \u001b[0mcheck\u001b[0m\u001b[0;34m:\u001b[0m\u001b[0;34m\u001b[0m\u001b[0;34m\u001b[0m\u001b[0m\n\u001b[1;32m    132\u001b[0m                         \u001b[0mself\u001b[0m\u001b[0;34m.\u001b[0m\u001b[0m_bacteria\u001b[0m\u001b[0;34m[\u001b[0m\u001b[0mrow\u001b[0m\u001b[0;34m,\u001b[0m\u001b[0mcol\u001b[0m\u001b[0;34m]\u001b[0m \u001b[0;34m=\u001b[0m \u001b[0;32mNone\u001b[0m\u001b[0;34m\u001b[0m\u001b[0;34m\u001b[0m\u001b[0m\n",
      "\u001b[0;32m<ipython-input-28-d168587aecd1>\u001b[0m in \u001b[0;36mupdate\u001b[0;34m(self, board)\u001b[0m\n\u001b[1;32m    117\u001b[0m         \u001b[0mnew_bac\u001b[0m \u001b[0;34m=\u001b[0m \u001b[0mself\u001b[0m\u001b[0;34m.\u001b[0m\u001b[0mreproduce\u001b[0m\u001b[0;34m(\u001b[0m\u001b[0mboard\u001b[0m\u001b[0;34m)\u001b[0m\u001b[0;34m\u001b[0m\u001b[0;34m\u001b[0m\u001b[0m\n\u001b[1;32m    118\u001b[0m         \u001b[0;32mif\u001b[0m \u001b[0mnew_bac\u001b[0m \u001b[0;32mis\u001b[0m \u001b[0;32mnot\u001b[0m \u001b[0;32mNone\u001b[0m\u001b[0;34m:\u001b[0m\u001b[0;34m\u001b[0m\u001b[0;34m\u001b[0m\u001b[0m\n\u001b[0;32m--> 119\u001b[0;31m             \u001b[0mboard\u001b[0m\u001b[0;34m[\u001b[0m\u001b[0mnew_bac\u001b[0m\u001b[0;34m.\u001b[0m\u001b[0my\u001b[0m\u001b[0;34m,\u001b[0m\u001b[0mnew_bac\u001b[0m\u001b[0;34m.\u001b[0m\u001b[0mx\u001b[0m\u001b[0;34m]\u001b[0m \u001b[0;34m=\u001b[0m \u001b[0mnew_bac\u001b[0m\u001b[0;34m\u001b[0m\u001b[0;34m\u001b[0m\u001b[0m\n\u001b[0m\u001b[1;32m    120\u001b[0m         \u001b[0;32mreturn\u001b[0m \u001b[0;32mFalse\u001b[0m\u001b[0;34m\u001b[0m\u001b[0;34m\u001b[0m\u001b[0m\n\u001b[1;32m    121\u001b[0m \u001b[0;34m\u001b[0m\u001b[0m\n",
      "\u001b[0;31mTypeError\u001b[0m: 'board' object does not support item assignment"
     ]
    }
   ],
   "source": [
    "height = 216\n",
    "width = 216\n",
    "iterations = 50\n",
    "table = board(height, width)\n",
    "print(\"bacteria locations:\")\n",
    "print(table._bacteria)\n",
    "\n",
    "for i in range(iterations):\n",
    "    table.update()\n",
    "    table.display()"
   ]
  },
  {
   "cell_type": "code",
   "execution_count": null,
   "metadata": {},
   "outputs": [],
   "source": []
  }
 ],
 "metadata": {
  "kernelspec": {
   "display_name": "Environment (conda_anaconda3)",
   "language": "python",
   "name": "conda_anaconda3"
  },
  "language_info": {
   "codemirror_mode": {
    "name": "ipython",
    "version": 3
   },
   "file_extension": ".py",
   "mimetype": "text/x-python",
   "name": "python",
   "nbconvert_exporter": "python",
   "pygments_lexer": "ipython3",
   "version": "3.7.3"
  }
 },
 "nbformat": 4,
 "nbformat_minor": 4
}
